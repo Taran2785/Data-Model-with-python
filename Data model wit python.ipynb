{
 "cells": [
  {
   "cell_type": "markdown",
   "id": "29cf64ca",
   "metadata": {},
   "source": [
    "# Data Model Exercise with Python"
   ]
  },
  {
   "cell_type": "markdown",
   "id": "139a1995",
   "metadata": {},
   "source": [
    "# Creating a table with PostgreSQL"
   ]
  },
  {
   "cell_type": "code",
   "execution_count": 37,
   "id": "6eb709c6",
   "metadata": {},
   "outputs": [
    {
     "name": "stdout",
     "output_type": "stream",
     "text": [
      "Requirement already satisfied: psycopg2 in ./opt/anaconda3/lib/python3.9/site-packages (2.8.6)\r\n"
     ]
    }
   ],
   "source": [
    "!pip install psycopg2 "
   ]
  },
  {
   "cell_type": "markdown",
   "id": "90206d14",
   "metadata": {},
   "source": [
    "## Import the library\n"
   ]
  },
  {
   "cell_type": "code",
   "execution_count": 38,
   "id": "97187e07",
   "metadata": {},
   "outputs": [],
   "source": [
    "import psycopg2\n"
   ]
  },
  {
   "cell_type": "markdown",
   "id": "d7bb0634",
   "metadata": {},
   "source": [
    "### Create a connection to database"
   ]
  },
  {
   "cell_type": "code",
   "execution_count": 39,
   "id": "8af7176d",
   "metadata": {},
   "outputs": [],
   "source": [
    "try:\n",
    "\n",
    "    conn=psycopg2.connect(\"host=Localhost dbname=postgres user=postgres password= Taran5495/\")\n",
    "except psycopg2. Error as e:\n",
    "    print(\"Error:Could not make connection to the Postgres database\")\n",
    "    print(e)"
   ]
  },
  {
   "cell_type": "markdown",
   "id": "4111013e",
   "metadata": {},
   "source": [
    "### Use the connection to get a cursor that can be used to execute queries"
   ]
  },
  {
   "cell_type": "code",
   "execution_count": 40,
   "id": "f60fbf10",
   "metadata": {},
   "outputs": [],
   "source": [
    "try:\n",
    "    cur= conn.cursor()\n",
    "except psycopg2. Error as e:\n",
    "    print(\"Error:Could not make connection to the Postgres database\")\n",
    "    print(e)    "
   ]
  },
  {
   "cell_type": "markdown",
   "id": "080009cd",
   "metadata": {},
   "source": [
    "### Set automatic commit to be true so that each action is committed without having to call con.commit() after each command"
   ]
  },
  {
   "cell_type": "code",
   "execution_count": 41,
   "id": "1aade942",
   "metadata": {},
   "outputs": [],
   "source": [
    "conn.set_session(autocommit=True)"
   ]
  },
  {
   "cell_type": "markdown",
   "id": "67fac4cf",
   "metadata": {},
   "source": [
    "### Create a Database"
   ]
  },
  {
   "cell_type": "code",
   "execution_count": 42,
   "id": "765c08a9",
   "metadata": {},
   "outputs": [
    {
     "name": "stdout",
     "output_type": "stream",
     "text": [
      "Error:Could not make connection to the Postgres database\n",
      "database \"myfirstdb\" already exists\n",
      "\n"
     ]
    }
   ],
   "source": [
    "try:\n",
    "    cur.execute(\"create database myfirstdb \")\n",
    "except psycopg2. Error as e:\n",
    "    print(\"Error:Could not make connection to the Postgres database\")\n",
    "    print(e)    "
   ]
  },
  {
   "cell_type": "markdown",
   "id": "b1986335",
   "metadata": {},
   "source": [
    "### Add database name. Close our connection to default database and get a new cursor"
   ]
  },
  {
   "cell_type": "code",
   "execution_count": 43,
   "id": "6706506e",
   "metadata": {},
   "outputs": [],
   "source": [
    "try:\n",
    "    conn.close()\n",
    "except psycopg2. Error as e:\n",
    "    print(\"Error:Could not make connection to the Postgres database\")\n",
    "    print(e) \n",
    "    \n",
    "try:\n",
    "    \n",
    "    conn=psycopg2.connect(\"host=Localhost dbname= myfirstdb user=postgres password= Taran5495/\")\n",
    "except psycopg2. Error as e:\n",
    "    print(\"Error:Could not make connection to the Postgres database\")\n",
    "    print(e)\n",
    "    \n",
    "try:\n",
    "    cur= conn.cursor()\n",
    "except psycopg2. Error as e:\n",
    "    print(\"Error:Could not make connection to the Postgres database\")\n",
    "    print(e)    \n",
    "    \n",
    "conn.set_session(autocommit=True)    "
   ]
  },
  {
   "cell_type": "markdown",
   "id": "d1ab4a3a",
   "metadata": {},
   "source": [
    "### Create table for students which includes columns:\n",
    "student_id\n",
    "name\n",
    "age\n",
    "gender\n",
    "subject\n",
    "marks\n"
   ]
  },
  {
   "cell_type": "code",
   "execution_count": 46,
   "id": "04a90dce",
   "metadata": {},
   "outputs": [],
   "source": [
    "try:\n",
    "    cur.execute(\"CREATE TABLE IF NOT EXISTS students(students_id int, name varchar,\\\n",
    "    age int,gender varchar,subject varchar,marks int);\")\n",
    "except psycopg2. Error as e:\n",
    "    print(\"Error:Could not make connection to the Postgres database\")\n",
    "    print(e) \n",
    "        "
   ]
  },
  {
   "cell_type": "markdown",
   "id": "c7b139cb",
   "metadata": {},
   "source": [
    "### Insert the rows in the table\n"
   ]
  },
  {
   "cell_type": "code",
   "execution_count": 49,
   "id": "aece8aab",
   "metadata": {},
   "outputs": [],
   "source": [
    "try:\n",
    "    cur.execute(\"INSERT INTO students(students_id , name ,age ,gender,subject ,marks )\\\n",
    "                Values(%s , %s, %s,%s,%s, %s)\",\\\n",
    "               (1,\"Raj\",23,\"Male\",\"Python\", 85))\n",
    "except psycopg2. Error as e:\n",
    "    print(\"Error:Inserting rows\")\n",
    "    print(e) \n",
    "    \n",
    "try:\n",
    "    cur.execute(\"INSERT INTO students(students_id , name ,age ,gender,subject ,marks )\\\n",
    "                Values(%s , %s, %s,%s,%s, %s)\",\\\n",
    "               (2,\"Priys\",22,\"Female\",\"Python\", 88))\n",
    "except psycopg2. Error as e:\n",
    "    print(\"Error:Inserting rows\")\n",
    "    print(e) \n",
    "     \n",
    "        "
   ]
  },
  {
   "cell_type": "markdown",
   "id": "329bc4ee",
   "metadata": {},
   "source": [
    "### Validate your data was inserted into the table"
   ]
  },
  {
   "cell_type": "code",
   "execution_count": 51,
   "id": "08d30326",
   "metadata": {},
   "outputs": [
    {
     "name": "stdout",
     "output_type": "stream",
     "text": [
      "(1, 'Raj', 23, 'Male', 'Python', 85)\n",
      "(2, 'Priys', 22, 'Female', 'Python', 88)\n"
     ]
    }
   ],
   "source": [
    "try:\n",
    "    cur.execute(\"SELECT * FROM students;\")\n",
    "except psycopg2. Error as e:\n",
    "    print(\"Error:Inserting rows\")\n",
    "    print(e) \n",
    "    \n",
    "row = cur.fetchone()   \n",
    "while row:\n",
    "    print(row)\n",
    "    row=cur.fetchone()\n",
    "    "
   ]
  },
  {
   "cell_type": "markdown",
   "id": "cfa47d4b",
   "metadata": {},
   "source": [
    "### Close connection"
   ]
  },
  {
   "cell_type": "code",
   "execution_count": 52,
   "id": "3a7aa778",
   "metadata": {},
   "outputs": [],
   "source": [
    "cur.close()\n",
    "conn.close()"
   ]
  },
  {
   "cell_type": "code",
   "execution_count": null,
   "id": "63cb350f",
   "metadata": {},
   "outputs": [],
   "source": []
  }
 ],
 "metadata": {
  "kernelspec": {
   "display_name": "Python 3 (ipykernel)",
   "language": "python",
   "name": "python3"
  },
  "language_info": {
   "codemirror_mode": {
    "name": "ipython",
    "version": 3
   },
   "file_extension": ".py",
   "mimetype": "text/x-python",
   "name": "python",
   "nbconvert_exporter": "python",
   "pygments_lexer": "ipython3",
   "version": "3.9.7"
  }
 },
 "nbformat": 4,
 "nbformat_minor": 5
}
